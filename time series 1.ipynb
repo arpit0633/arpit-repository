{
 "cells": [
  {
   "cell_type": "code",
   "execution_count": 10,
   "metadata": {},
   "outputs": [],
   "source": [
    "import matplotlib as mp\n",
    "import pandas as pd"
   ]
  },
  {
   "cell_type": "code",
   "execution_count": 2,
   "metadata": {},
   "outputs": [
    {
     "data": {
      "text/html": [
       "<div>\n",
       "<style scoped>\n",
       "    .dataframe tbody tr th:only-of-type {\n",
       "        vertical-align: middle;\n",
       "    }\n",
       "\n",
       "    .dataframe tbody tr th {\n",
       "        vertical-align: top;\n",
       "    }\n",
       "\n",
       "    .dataframe thead th {\n",
       "        text-align: right;\n",
       "    }\n",
       "</style>\n",
       "<table border=\"1\" class=\"dataframe\">\n",
       "  <thead>\n",
       "    <tr style=\"text-align: right;\">\n",
       "      <th></th>\n",
       "      <th>Open</th>\n",
       "      <th>High</th>\n",
       "      <th>Low</th>\n",
       "      <th>Close</th>\n",
       "      <th>Adj Close</th>\n",
       "      <th>Volume</th>\n",
       "    </tr>\n",
       "    <tr>\n",
       "      <th>Date</th>\n",
       "      <th></th>\n",
       "      <th></th>\n",
       "      <th></th>\n",
       "      <th></th>\n",
       "      <th></th>\n",
       "      <th></th>\n",
       "    </tr>\n",
       "  </thead>\n",
       "  <tbody>\n",
       "    <tr>\n",
       "      <th>2020-06-12</th>\n",
       "      <td>344.720001</td>\n",
       "      <td>347.799988</td>\n",
       "      <td>334.220001</td>\n",
       "      <td>338.799988</td>\n",
       "      <td>338.799988</td>\n",
       "      <td>50001500</td>\n",
       "    </tr>\n",
       "    <tr>\n",
       "      <th>2020-06-15</th>\n",
       "      <td>333.250000</td>\n",
       "      <td>345.679993</td>\n",
       "      <td>332.579987</td>\n",
       "      <td>342.989990</td>\n",
       "      <td>342.989990</td>\n",
       "      <td>34702200</td>\n",
       "    </tr>\n",
       "    <tr>\n",
       "      <th>2020-06-16</th>\n",
       "      <td>351.459991</td>\n",
       "      <td>353.200012</td>\n",
       "      <td>344.720001</td>\n",
       "      <td>352.079987</td>\n",
       "      <td>352.079987</td>\n",
       "      <td>41357200</td>\n",
       "    </tr>\n",
       "    <tr>\n",
       "      <th>2020-06-17</th>\n",
       "      <td>355.149994</td>\n",
       "      <td>355.399994</td>\n",
       "      <td>351.089996</td>\n",
       "      <td>351.589996</td>\n",
       "      <td>351.589996</td>\n",
       "      <td>28532000</td>\n",
       "    </tr>\n",
       "    <tr>\n",
       "      <th>2020-06-18</th>\n",
       "      <td>351.410004</td>\n",
       "      <td>353.450012</td>\n",
       "      <td>349.220001</td>\n",
       "      <td>351.730011</td>\n",
       "      <td>351.730011</td>\n",
       "      <td>24205100</td>\n",
       "    </tr>\n",
       "    <tr>\n",
       "      <th>2020-06-19</th>\n",
       "      <td>354.640015</td>\n",
       "      <td>356.559998</td>\n",
       "      <td>345.149994</td>\n",
       "      <td>349.720001</td>\n",
       "      <td>349.720001</td>\n",
       "      <td>66119000</td>\n",
       "    </tr>\n",
       "    <tr>\n",
       "      <th>2020-06-22</th>\n",
       "      <td>351.339996</td>\n",
       "      <td>359.459991</td>\n",
       "      <td>351.149994</td>\n",
       "      <td>358.869995</td>\n",
       "      <td>358.869995</td>\n",
       "      <td>33861300</td>\n",
       "    </tr>\n",
       "    <tr>\n",
       "      <th>2020-06-23</th>\n",
       "      <td>364.000000</td>\n",
       "      <td>372.380005</td>\n",
       "      <td>362.269989</td>\n",
       "      <td>366.529999</td>\n",
       "      <td>366.529999</td>\n",
       "      <td>53038900</td>\n",
       "    </tr>\n",
       "    <tr>\n",
       "      <th>2020-06-24</th>\n",
       "      <td>365.000000</td>\n",
       "      <td>368.790009</td>\n",
       "      <td>358.519989</td>\n",
       "      <td>360.059998</td>\n",
       "      <td>360.059998</td>\n",
       "      <td>48155800</td>\n",
       "    </tr>\n",
       "    <tr>\n",
       "      <th>2020-06-25</th>\n",
       "      <td>360.700012</td>\n",
       "      <td>365.000000</td>\n",
       "      <td>357.570007</td>\n",
       "      <td>364.839996</td>\n",
       "      <td>364.839996</td>\n",
       "      <td>34380600</td>\n",
       "    </tr>\n",
       "    <tr>\n",
       "      <th>2020-06-26</th>\n",
       "      <td>364.410004</td>\n",
       "      <td>365.320007</td>\n",
       "      <td>353.019989</td>\n",
       "      <td>353.630005</td>\n",
       "      <td>353.630005</td>\n",
       "      <td>51314200</td>\n",
       "    </tr>\n",
       "    <tr>\n",
       "      <th>2020-06-29</th>\n",
       "      <td>353.250000</td>\n",
       "      <td>362.170013</td>\n",
       "      <td>351.279999</td>\n",
       "      <td>361.779999</td>\n",
       "      <td>361.779999</td>\n",
       "      <td>32661500</td>\n",
       "    </tr>\n",
       "    <tr>\n",
       "      <th>2020-06-30</th>\n",
       "      <td>360.079987</td>\n",
       "      <td>365.980011</td>\n",
       "      <td>360.000000</td>\n",
       "      <td>364.799988</td>\n",
       "      <td>364.799988</td>\n",
       "      <td>35055800</td>\n",
       "    </tr>\n",
       "    <tr>\n",
       "      <th>2020-07-01</th>\n",
       "      <td>365.119995</td>\n",
       "      <td>367.359985</td>\n",
       "      <td>363.910004</td>\n",
       "      <td>364.109985</td>\n",
       "      <td>364.109985</td>\n",
       "      <td>27684300</td>\n",
       "    </tr>\n",
       "    <tr>\n",
       "      <th>2020-07-02</th>\n",
       "      <td>367.850006</td>\n",
       "      <td>370.470001</td>\n",
       "      <td>363.640015</td>\n",
       "      <td>364.109985</td>\n",
       "      <td>364.109985</td>\n",
       "      <td>28510400</td>\n",
       "    </tr>\n",
       "    <tr>\n",
       "      <th>2020-07-06</th>\n",
       "      <td>370.000000</td>\n",
       "      <td>375.779999</td>\n",
       "      <td>369.869995</td>\n",
       "      <td>373.850006</td>\n",
       "      <td>373.850006</td>\n",
       "      <td>29663900</td>\n",
       "    </tr>\n",
       "    <tr>\n",
       "      <th>2020-07-07</th>\n",
       "      <td>375.410004</td>\n",
       "      <td>378.619995</td>\n",
       "      <td>372.230011</td>\n",
       "      <td>372.690002</td>\n",
       "      <td>372.690002</td>\n",
       "      <td>28106100</td>\n",
       "    </tr>\n",
       "    <tr>\n",
       "      <th>2020-07-08</th>\n",
       "      <td>376.720001</td>\n",
       "      <td>381.500000</td>\n",
       "      <td>376.359985</td>\n",
       "      <td>381.369995</td>\n",
       "      <td>381.369995</td>\n",
       "      <td>29273000</td>\n",
       "    </tr>\n",
       "    <tr>\n",
       "      <th>2020-07-09</th>\n",
       "      <td>385.049988</td>\n",
       "      <td>385.269989</td>\n",
       "      <td>378.690002</td>\n",
       "      <td>383.010010</td>\n",
       "      <td>383.010010</td>\n",
       "      <td>31410700</td>\n",
       "    </tr>\n",
       "    <tr>\n",
       "      <th>2020-07-10</th>\n",
       "      <td>381.339996</td>\n",
       "      <td>383.920013</td>\n",
       "      <td>378.820007</td>\n",
       "      <td>383.679993</td>\n",
       "      <td>383.679993</td>\n",
       "      <td>22534100</td>\n",
       "    </tr>\n",
       "  </tbody>\n",
       "</table>\n",
       "</div>"
      ],
      "text/plain": [
       "                  Open        High         Low       Close   Adj Close  \\\n",
       "Date                                                                     \n",
       "2020-06-12  344.720001  347.799988  334.220001  338.799988  338.799988   \n",
       "2020-06-15  333.250000  345.679993  332.579987  342.989990  342.989990   \n",
       "2020-06-16  351.459991  353.200012  344.720001  352.079987  352.079987   \n",
       "2020-06-17  355.149994  355.399994  351.089996  351.589996  351.589996   \n",
       "2020-06-18  351.410004  353.450012  349.220001  351.730011  351.730011   \n",
       "2020-06-19  354.640015  356.559998  345.149994  349.720001  349.720001   \n",
       "2020-06-22  351.339996  359.459991  351.149994  358.869995  358.869995   \n",
       "2020-06-23  364.000000  372.380005  362.269989  366.529999  366.529999   \n",
       "2020-06-24  365.000000  368.790009  358.519989  360.059998  360.059998   \n",
       "2020-06-25  360.700012  365.000000  357.570007  364.839996  364.839996   \n",
       "2020-06-26  364.410004  365.320007  353.019989  353.630005  353.630005   \n",
       "2020-06-29  353.250000  362.170013  351.279999  361.779999  361.779999   \n",
       "2020-06-30  360.079987  365.980011  360.000000  364.799988  364.799988   \n",
       "2020-07-01  365.119995  367.359985  363.910004  364.109985  364.109985   \n",
       "2020-07-02  367.850006  370.470001  363.640015  364.109985  364.109985   \n",
       "2020-07-06  370.000000  375.779999  369.869995  373.850006  373.850006   \n",
       "2020-07-07  375.410004  378.619995  372.230011  372.690002  372.690002   \n",
       "2020-07-08  376.720001  381.500000  376.359985  381.369995  381.369995   \n",
       "2020-07-09  385.049988  385.269989  378.690002  383.010010  383.010010   \n",
       "2020-07-10  381.339996  383.920013  378.820007  383.679993  383.679993   \n",
       "\n",
       "              Volume  \n",
       "Date                  \n",
       "2020-06-12  50001500  \n",
       "2020-06-15  34702200  \n",
       "2020-06-16  41357200  \n",
       "2020-06-17  28532000  \n",
       "2020-06-18  24205100  \n",
       "2020-06-19  66119000  \n",
       "2020-06-22  33861300  \n",
       "2020-06-23  53038900  \n",
       "2020-06-24  48155800  \n",
       "2020-06-25  34380600  \n",
       "2020-06-26  51314200  \n",
       "2020-06-29  32661500  \n",
       "2020-06-30  35055800  \n",
       "2020-07-01  27684300  \n",
       "2020-07-02  28510400  \n",
       "2020-07-06  29663900  \n",
       "2020-07-07  28106100  \n",
       "2020-07-08  29273000  \n",
       "2020-07-09  31410700  \n",
       "2020-07-10  22534100  "
      ]
     },
     "execution_count": 2,
     "metadata": {},
     "output_type": "execute_result"
    }
   ],
   "source": [
    "df = pd.read_csv(\"D:\\\\New folder\\\\AAPL.csv\",parse_dates=[\"Date\"],index_col=\"Date\")\n",
    "df.tail(20)"
   ]
  },
  {
   "cell_type": "code",
   "execution_count": 3,
   "metadata": {},
   "outputs": [
    {
     "ename": "AttributeError",
     "evalue": "'DataFrame' object has no attribute 'Date'",
     "output_type": "error",
     "traceback": [
      "\u001b[1;31m---------------------------------------------------------------------------\u001b[0m",
      "\u001b[1;31mAttributeError\u001b[0m                            Traceback (most recent call last)",
      "\u001b[1;32m<ipython-input-3-521c24f7e09e>\u001b[0m in \u001b[0;36m<module>\u001b[1;34m\u001b[0m\n\u001b[1;32m----> 1\u001b[1;33m \u001b[0mtype\u001b[0m\u001b[1;33m(\u001b[0m\u001b[0mdf\u001b[0m\u001b[1;33m.\u001b[0m\u001b[0mDate\u001b[0m\u001b[1;33m[\u001b[0m\u001b[1;36m1\u001b[0m\u001b[1;33m]\u001b[0m\u001b[1;33m)\u001b[0m\u001b[1;33m\u001b[0m\u001b[1;33m\u001b[0m\u001b[0m\n\u001b[0m",
      "\u001b[1;32md:\\python\\python38\\lib\\site-packages\\pandas\\core\\generic.py\u001b[0m in \u001b[0;36m__getattr__\u001b[1;34m(self, name)\u001b[0m\n\u001b[0;32m   5272\u001b[0m             \u001b[1;32mif\u001b[0m \u001b[0mself\u001b[0m\u001b[1;33m.\u001b[0m\u001b[0m_info_axis\u001b[0m\u001b[1;33m.\u001b[0m\u001b[0m_can_hold_identifiers_and_holds_name\u001b[0m\u001b[1;33m(\u001b[0m\u001b[0mname\u001b[0m\u001b[1;33m)\u001b[0m\u001b[1;33m:\u001b[0m\u001b[1;33m\u001b[0m\u001b[1;33m\u001b[0m\u001b[0m\n\u001b[0;32m   5273\u001b[0m                 \u001b[1;32mreturn\u001b[0m \u001b[0mself\u001b[0m\u001b[1;33m[\u001b[0m\u001b[0mname\u001b[0m\u001b[1;33m]\u001b[0m\u001b[1;33m\u001b[0m\u001b[1;33m\u001b[0m\u001b[0m\n\u001b[1;32m-> 5274\u001b[1;33m             \u001b[1;32mreturn\u001b[0m \u001b[0mobject\u001b[0m\u001b[1;33m.\u001b[0m\u001b[0m__getattribute__\u001b[0m\u001b[1;33m(\u001b[0m\u001b[0mself\u001b[0m\u001b[1;33m,\u001b[0m \u001b[0mname\u001b[0m\u001b[1;33m)\u001b[0m\u001b[1;33m\u001b[0m\u001b[1;33m\u001b[0m\u001b[0m\n\u001b[0m\u001b[0;32m   5275\u001b[0m \u001b[1;33m\u001b[0m\u001b[0m\n\u001b[0;32m   5276\u001b[0m     \u001b[1;32mdef\u001b[0m \u001b[0m__setattr__\u001b[0m\u001b[1;33m(\u001b[0m\u001b[0mself\u001b[0m\u001b[1;33m,\u001b[0m \u001b[0mname\u001b[0m\u001b[1;33m:\u001b[0m \u001b[0mstr\u001b[0m\u001b[1;33m,\u001b[0m \u001b[0mvalue\u001b[0m\u001b[1;33m)\u001b[0m \u001b[1;33m->\u001b[0m \u001b[1;32mNone\u001b[0m\u001b[1;33m:\u001b[0m\u001b[1;33m\u001b[0m\u001b[1;33m\u001b[0m\u001b[0m\n",
      "\u001b[1;31mAttributeError\u001b[0m: 'DataFrame' object has no attribute 'Date'"
     ]
    }
   ],
   "source": [
    "type(df.Date[1])"
   ]
  },
  {
   "cell_type": "code",
   "execution_count": 4,
   "metadata": {},
   "outputs": [
    {
     "data": {
      "text/plain": [
       "DatetimeIndex(['2019-07-12', '2019-07-15', '2019-07-16', '2019-07-17',\n",
       "               '2019-07-18', '2019-07-19', '2019-07-22', '2019-07-23',\n",
       "               '2019-07-24', '2019-07-25',\n",
       "               ...\n",
       "               '2020-06-26', '2020-06-29', '2020-06-30', '2020-07-01',\n",
       "               '2020-07-02', '2020-07-06', '2020-07-07', '2020-07-08',\n",
       "               '2020-07-09', '2020-07-10'],\n",
       "              dtype='datetime64[ns]', name='Date', length=252, freq=None)"
      ]
     },
     "execution_count": 4,
     "metadata": {},
     "output_type": "execute_result"
    }
   ],
   "source": [
    "df.index"
   ]
  },
  {
   "cell_type": "code",
   "execution_count": null,
   "metadata": {},
   "outputs": [],
   "source": [
    "df[\"2020-07\"].Close.mean()"
   ]
  },
  {
   "cell_type": "code",
   "execution_count": null,
   "metadata": {},
   "outputs": [],
   "source": [
    "df[\"2020-06-02\":\"2020-07-07\"]"
   ]
  },
  {
   "cell_type": "code",
   "execution_count": 16,
   "metadata": {},
   "outputs": [
    {
     "data": {
      "text/plain": [
       "<matplotlib.axes._subplots.AxesSubplot at 0x6bbb249b20>"
      ]
     },
     "execution_count": 16,
     "metadata": {},
     "output_type": "execute_result"
    },
    {
     "data": {
      "image/png": "[encoded data removed]",
      "text/plain": [
       "<Figure size 432x288 with 1 Axes>"
      ]
     },
     "metadata": {
      "needs_background": "light"
     },
     "output_type": "display_data"
    }
   ],
   "source": [
    "%matplotlib inline\n",
    "df.Close.resample(\"M\").mean().plot()"
   ]
  },
  {
   "cell_type": "code",
   "execution_count": null,
   "metadata": {},
   "outputs": [],
   "source": []
  },
  {
   "cell_type": "code",
   "execution_count": 18,
   "metadata": {},
   "outputs": [
    {
     "data": {
      "text/plain": [
       "<matplotlib.axes._subplots.AxesSubplot at 0x6bba90f8e0>"
      ]
     },
     "execution_count": 18,
     "metadata": {},
     "output_type": "execute_result"
    },
    {
     "data": {
      "image/png": "[encoded data removed]",
      "text/plain": [
       "<Figure size 432x288 with 1 Axes>"
      ]
     },
     "metadata": {
      "needs_background": "light"
     },
     "output_type": "display_data"
    }
   ],
   "source": [
    "%matplotlib inline\n",
    "df.Close.resample(\"Q\").mean().plot()"
   ]
  },
  {
   "cell_type": "code",
   "execution_count": null,
   "metadata": {},
   "outputs": [],
   "source": []
  },
  {
   "cell_type": "code",
   "execution_count": null,
   "metadata": {},
   "outputs": [],
   "source": []
  }
 ],
 "metadata": {
  "kernelspec": {
   "display_name": "Python 3",
   "language": "python",
   "name": "python3"
  },
  "language_info": {
   "codemirror_mode": {
    "name": "ipython",
    "version": 3
   },
   "file_extension": ".py",
   "mimetype": "text/x-python",
   "name": "python",
   "nbconvert_exporter": "python",
   "pygments_lexer": "ipython3",
   "version": "3.8.3rc1"
  }
 },
 "nbformat": 4,
 "nbformat_minor": 4
}
